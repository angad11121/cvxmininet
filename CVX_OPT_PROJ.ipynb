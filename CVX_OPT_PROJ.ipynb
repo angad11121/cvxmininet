{
  "cells": [
    {
      "cell_type": "markdown",
      "source": [
        "Code Example for CVXNET\n",
        "\n",
        "Submitted by \n",
        "\n",
        "* CS19BTECH11035, Gunangad Pal Singh Narula\n",
        "* EE19BTECH11053, Soham Kulkarni\n",
        "\n"
      ],
      "metadata": {
        "id": "KA5d_kbCVMxr"
      }
    },
    {
      "cell_type": "code",
      "execution_count": 1,
      "metadata": {
        "id": "tbYXm88-UiUd"
      },
      "outputs": [],
      "source": [
        "import numpy as np\n",
        "import torch\n",
        "import torch.nn as nn\n",
        "import torch.nn.functional as F\n",
        "import torch.optim as optim\n",
        "\n",
        "import matplotlib.pyplot as plt\n",
        "import matplotlib.image as mpimg\n",
        "%matplotlib inline"
      ]
    },
    {
      "cell_type": "code",
      "execution_count": 2,
      "metadata": {
        "colab": {
          "base_uri": "https://localhost:8080/"
        },
        "id": "TmUzJKc--XbX",
        "outputId": "91d28028-808d-47b7-ced8-50447c181c29"
      },
      "outputs": [
        {
          "output_type": "stream",
          "name": "stdout",
          "text": [
            "Archive:  data.zip\n",
            "  inflating: data/0.png              \n",
            " extracting: data/1.png              \n",
            " extracting: data/2.png              \n",
            " extracting: data/3.png              \n",
            " extracting: data/4.png              \n",
            " extracting: data/5.png              \n",
            " extracting: data/6.png              \n",
            " extracting: data/7.png              \n"
          ]
        }
      ],
      "source": [
        "!unzip data.zip -d data"
      ]
    },
    {
      "cell_type": "code",
      "source": [
        "num_shapes,num_hyperplanes = 5,10"
      ],
      "metadata": {
        "id": "yp74QY30_TQC"
      },
      "execution_count": 3,
      "outputs": []
    },
    {
      "cell_type": "code",
      "execution_count": 4,
      "metadata": {
        "id": "GuJbACMaIeMD"
      },
      "outputs": [],
      "source": [
        "class CvxNetMini(nn.Module):\n",
        "  def __init__(self,num_shapes,num_hyperplanes,delta=0.5,sigma=0.5):\n",
        "    super(CvxNetMini,self).__init__()\n",
        "    self.delta = delta\n",
        "    self.sigma = sigma\n",
        "    self.num_shapes = num_shapes\n",
        "    self.num_hyperplanes = num_hyperplanes\n",
        "    self.encoder = nn.Sequential(\n",
        "        nn.Conv2d(1,4,kernel_size=3,padding=1),\n",
        "        nn.BatchNorm2d(4),\n",
        "        nn.ReLU(),\n",
        "        nn.Conv2d(4,4,kernel_size=3,padding=1),\n",
        "        nn.BatchNorm2d(4),\n",
        "        nn.ReLU(),\n",
        "        nn.MaxPool2d(kernel_size=2),\n",
        "        nn.Conv2d(4,8,kernel_size=3,padding=1),\n",
        "        nn.BatchNorm2d(8),\n",
        "        nn.ReLU(),\n",
        "        nn.MaxPool2d(kernel_size=2),\n",
        "        nn.Conv2d(8,8,kernel_size=3,padding=1),\n",
        "        nn.BatchNorm2d(8),\n",
        "        nn.MaxPool2d(kernel_size=2),  \n",
        "        )\n",
        "    self.decoder = nn.Sequential(\n",
        "        nn.Linear(200,200),\n",
        "        nn.ReLU(),\n",
        "        nn.Linear(200,self.num_hyperplanes*self.num_shapes*3 + self.num_shapes*2)\n",
        "    )\n",
        "    params = list(self.encoder.parameters())+list(self.decoder.parameters())\n",
        "    self.optimizer = optim.Adam(params)\n",
        "    \n",
        "  def forward(self,input):\n",
        "    out = self.encoder(input)\n",
        "    # print(out.shape)\n",
        "    out1 = torch.flatten(out)\n",
        "    # print(out1.shape)\n",
        "    out2 = self.decoder(out1)\n",
        "    return out1,out2"
      ]
    },
    {
      "cell_type": "code",
      "execution_count": 5,
      "metadata": {
        "id": "gdiU89SDQAz0"
      },
      "outputs": [],
      "source": []
    },
    {
      "cell_type": "code",
      "execution_count": 36,
      "metadata": {
        "id": "nChjjRV4WvTs"
      },
      "outputs": [],
      "source": [
        "def get_img_values(x,img):\n",
        "  if (len(x.shape)==4):\n",
        "    x = x[:,0,0,:]\n",
        "  img_val = np.fromfunction(lambda i,j: img[0,0,x[i,0],x[i,1]],(x.shape[0],1))\n",
        "  return img_val.to(torch.float32)\n",
        "def hyp_dis(x,h,d):\n",
        "  return torch.sum(h*x,-1,keepdim=True) + d;\n",
        "\n",
        "def psi(x,h,d,delta):\n",
        "  return torch.logsumexp(delta*hyp_dis(x,h,d),-2)\n",
        "\n",
        "def indicator_C(x,h,d,c,delta,sigma):\n",
        "  return torch.sigmoid(-sigma*psi(x,h,d,delta))\n",
        "\n",
        "def indicator_O(x,h,d,c,delta,sigma):\n",
        "  return torch.max(indicator_C(x,h,d,c,delta,sigma),dim=-2)[0]\n",
        "\n",
        "def Loss_approx(x,h,d,c,delta,sigma,img):\n",
        "  return F.mse_loss(indicator_O(x,h,d,c,delta,sigma),get_img_values(x,img))\n",
        "\n",
        "def Loss_decomp(x,h,d,c,delta,sigma):\n",
        "  return torch.mean(torch.relu(torch.sum(indicator_C(x,h,d,c,delta,sigma),-2) - 2 )**2)\n",
        "\n",
        "# h*k\n",
        "def Loss_unique(d):\n",
        "  return torch.mean(d**2)\n",
        "\n",
        "def Loss_guide(x,h,d,c,delta,sigma,img):\n",
        "  return torch.mean((indicator_C(x,h,d,c,delta,sigma)-get_img_values(x,img).unsqueeze(1).repeat(1,num_shapes,1))**2)\n",
        "\n",
        "def Loss_local(x,c):\n",
        "  return F.mse_loss(c,x[0,:,0,:].to(torch.float32))\n",
        "\n",
        "def Final_Loss(X_R2,X_N,X_1,h,d,c,delta,sigma,img):\n",
        "  return Loss_approx(X_R2,h,d,c,delta,sigma,img)+ Loss_decomp(X_R2,h,d,c,delta,sigma) + Loss_unique(d)+\\\n",
        "  Loss_guide(X_N,h,d,c,delta,sigma,img) + Loss_local(X_1,c)"
      ]
    },
    {
      "cell_type": "code",
      "execution_count": 7,
      "metadata": {
        "id": "WkjhgH42QcfL",
        "colab": {
          "base_uri": "https://localhost:8080/"
        },
        "outputId": "9cc35db8-9f4b-4a34-e427-5ed69c626b3e"
      },
      "outputs": [
        {
          "output_type": "execute_result",
          "data": {
            "text/plain": [
              "torch.Size([8, 1, 40, 40])"
            ]
          },
          "metadata": {},
          "execution_count": 7
        }
      ],
      "source": [
        "def img_preprocess(img):\n",
        "  img = img[:,:,:3]\n",
        "  img = 1 - np.mean(img,axis=2)\n",
        "  img[:2,:] =0\n",
        "  img = torch.from_numpy(img)\n",
        "  img = img.unsqueeze(0)\n",
        "  img = img.unsqueeze(0)\n",
        "  return img\n",
        "\n",
        "img_data = torch.empty((0,1,40,40))\n",
        "for i in range(8):\n",
        "  img_data = torch.cat((img_data,img_preprocess(plt.imread(f\"data/{i}.png\"))),)\n",
        "\n",
        "img_data.shape"
      ]
    },
    {
      "cell_type": "code",
      "source": [
        "plt.imshow(img_data[7,0,:,:])"
      ],
      "metadata": {
        "colab": {
          "base_uri": "https://localhost:8080/",
          "height": 448
        },
        "id": "IOblEZRbEVCz",
        "outputId": "6ea2a11b-33b4-442c-aa8e-9e681651054e"
      },
      "execution_count": 8,
      "outputs": [
        {
          "output_type": "execute_result",
          "data": {
            "text/plain": [
              "<matplotlib.image.AxesImage at 0x7f74b6b559f0>"
            ]
          },
          "metadata": {},
          "execution_count": 8
        },
        {
          "output_type": "display_data",
          "data": {
            "text/plain": [
              "<Figure size 640x480 with 1 Axes>"
            ],
            "image/png": "[encoded data removed]"
          },
          "metadata": {}
        }
      ]
    },
    {
      "cell_type": "code",
      "execution_count": 70,
      "metadata": {
        "colab": {
          "base_uri": "https://localhost:8080/",
          "height": 448
        },
        "id": "rkNVr7dVSEDs",
        "outputId": "51bb66fd-665b-4248-b154-81b790519f6c"
      },
      "outputs": [
        {
          "output_type": "execute_result",
          "data": {
            "text/plain": [
              "<matplotlib.image.AxesImage at 0x7f74b2ad5ff0>"
            ]
          },
          "metadata": {},
          "execution_count": 70
        },
        {
          "output_type": "display_data",
          "data": {
            "text/plain": [
              "<Figure size 640x480 with 1 Axes>"
            ],
            "image/png": "[encoded data removed]"
          },
          "metadata": {}
        }
      ],
      "source": [
        "model = CvxNetMini(5,10,0.2,0.8)\n",
        "def train(eps=1,):\n",
        "  model.train()\n",
        "  XY_indices = np.mgrid[0:40:1,0:40:1].reshape(2,-1).T\n",
        "  X_R2 = torch.from_numpy(XY_indices)\n",
        "  X_R2 = X_R2.unsqueeze(1).repeat(1,num_hyperplanes,1).unsqueeze(1).repeat(1,num_shapes,1,1)\n",
        "  \n",
        "  for e in range(eps):\n",
        "    X_1 = torch.from_numpy(XY_indices[np.random.choice(1600,1,False)]) \n",
        "    X_N = torch.from_numpy(XY_indices[np.random.choice(1600,160,False)]) \n",
        "    X_1 = X_N.unsqueeze(1).repeat(1,num_hyperplanes,1).unsqueeze(1).repeat(1,num_shapes,1,1)\n",
        "    X_N = X_N.unsqueeze(1).repeat(1,num_hyperplanes,1).unsqueeze(1).repeat(1,num_shapes,1,1)\n",
        "    \n",
        "    for i in range(8):\n",
        "      im = img_data[i,:,:,:].unsqueeze(0)\n",
        "      _,CO = model(im)\n",
        "      CO.to(torch.float32)\n",
        "      CO = CO.reshape(num_shapes,-1)\n",
        "      h= CO[:,:20].reshape(num_shapes,num_hyperplanes,2)\n",
        "      d = CO[:,20:30].reshape(num_shapes,num_hyperplanes,1)\n",
        "      c = CO[:,30:].reshape(num_shapes,2)\n",
        "\n",
        "      h = h.unsqueeze(0)\n",
        "      d = d.unsqueeze(0)\n",
        "      \n",
        "      loss = Final_Loss(X_R2,X_N,X_1,h,d,c,model.delta,model.sigma,im)\n",
        "      model.optimizer.zero_grad()\n",
        "      loss.backward()\n",
        "      model.optimizer.step()\n",
        "  plt.imshow(indicator_O(X_R2,h,d,c,model.delta,model.sigma).reshape(40,40).detach().numpy())\n",
        "train(100)"
      ]
    },
    {
      "cell_type": "code",
      "execution_count": 42,
      "metadata": {
        "id": "YJcd_rovTBji",
        "colab": {
          "base_uri": "https://localhost:8080/",
          "height": 166
        },
        "outputId": "172d5eb9-0ec6-4f7a-8941-9cbcef08cf8c"
      },
      "outputs": [
        {
          "output_type": "error",
          "ename": "NameError",
          "evalue": "ignored",
          "traceback": [
            "\u001b[0;31m---------------------------------------------------------------------------\u001b[0m",
            "\u001b[0;31mNameError\u001b[0m                                 Traceback (most recent call last)",
            "\u001b[0;32m<ipython-input-42-2f0c694242e3>\u001b[0m in \u001b[0;36m<cell line: 1>\u001b[0;34m()\u001b[0m\n\u001b[0;32m----> 1\u001b[0;31m \u001b[0mindicator_O\u001b[0m\u001b[0;34m(\u001b[0m\u001b[0mX_R2\u001b[0m\u001b[0;34m,\u001b[0m\u001b[0mh\u001b[0m\u001b[0;34m,\u001b[0m\u001b[0md\u001b[0m\u001b[0;34m,\u001b[0m\u001b[0mc\u001b[0m\u001b[0;34m,\u001b[0m\u001b[0mmodel\u001b[0m\u001b[0;34m.\u001b[0m\u001b[0mdelta\u001b[0m\u001b[0;34m,\u001b[0m\u001b[0mmodel\u001b[0m\u001b[0;34m.\u001b[0m\u001b[0msigma\u001b[0m\u001b[0;34m)\u001b[0m\u001b[0;34m\u001b[0m\u001b[0;34m\u001b[0m\u001b[0m\n\u001b[0m",
            "\u001b[0;31mNameError\u001b[0m: name 'X_R2' is not defined"
          ]
        }
      ],
      "source": [
        "\n"
      ]
    }
  ],
  "metadata": {
    "colab": {
      "provenance": []
    },
    "kernelspec": {
      "display_name": "Python 3",
      "name": "python3"
    },
    "language_info": {
      "name": "python"
    }
  },
  "nbformat": 4,
  "nbformat_minor": 0
}